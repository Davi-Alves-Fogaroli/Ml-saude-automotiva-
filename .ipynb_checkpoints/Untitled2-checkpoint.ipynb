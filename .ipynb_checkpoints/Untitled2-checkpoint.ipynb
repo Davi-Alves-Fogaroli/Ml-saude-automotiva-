{
 "cells": [
  {
   "cell_type": "code",
   "execution_count": 1,
   "metadata": {},
   "outputs": [
    {
     "name": "stderr",
     "output_type": "stream",
     "text": [
      "D:\\Anaconda\\lib\\site-packages\\sklearn\\utils\\deprecation.py:143: FutureWarning: The sklearn.metrics.scorer module is  deprecated in version 0.22 and will be removed in version 0.24. The corresponding classes / functions should instead be imported from sklearn.metrics. Anything that cannot be imported from sklearn.metrics is now part of the private API.\n",
      "  warnings.warn(message, FutureWarning)\n"
     ]
    }
   ],
   "source": [
    "# Processamento de dados\n",
    "import pandas as pd  # trabalhar com tabelas\n",
    "import numpy as np   # trabalhar com vetores e matrizes\n",
    "from collections import Counter #Checar a quantidade de Strings diferentes que um atributo possui\n",
    "\n",
    "\n",
    "# Aprendizado de Máquina\n",
    "from sklearn.preprocessing import StandardScaler, MinMaxScaler, RobustScaler  # Escalonamento \n",
    "from sklearn.model_selection import train_test_split, cross_validate, StratifiedKFold # Separação treino e teste\n",
    "from sklearn.model_selection import GridSearchCV # Encontrar os melhores hiperparametros para um modelo\n",
    "from sklearn.metrics import confusion_matrix, ConfusionMatrixDisplay, plot_confusion_matrix\n",
    "from sklearn.metrics import f1_score, accuracy_score, precision_score, recall_score, roc_auc_score, roc_curve, ConfusionMatrixDisplay, RocCurveDisplay, confusion_matrix, classification_report, plot_roc_curve\n",
    "\n",
    "from sklearn.metrics import make_scorer, classification_report\n",
    "from sklearn.metrics import mean_squared_error, mean_absolute_error, r2_score  # Métricas de desempenho Regressao\n",
    "from sklearn.metrics.scorer import accuracy_scorer\n",
    "\n",
    "# Classificadores\n",
    "from sklearn.discriminant_analysis import QuadraticDiscriminantAnalysis, LinearDiscriminantAnalysis\n",
    "from sklearn.naive_bayes import GaussianNB\n",
    "from sklearn.linear_model import LogisticRegression\n",
    "from sklearn.neighbors import KNeighborsClassifier\n",
    "from sklearn.svm import SVC\n",
    "from sklearn.tree import DecisionTreeClassifier\n",
    "from sklearn.dummy import DummyClassifier  # Classificador ingênuo para baseline \n",
    "from sklearn.tree import DecisionTreeClassifier # Arvores de Decisão\n",
    "from sklearn.ensemble import RandomForestClassifier # RandomForest\n",
    "\n",
    "from sklearn.pipeline import make_pipeline\n",
    "\n",
    "# Regressão\n",
    "from sklearn.linear_model import LinearRegression\n",
    "from sklearn.preprocessing import PolynomialFeatures\n",
    "# Gráficos\n",
    "import seaborn as sns\n",
    "import matplotlib.pyplot as plt\n",
    "from sklearn.tree import plot_tree  # Plotar árvore de decisão\n",
    "\n",
    "# Datasets\n",
    "from sklearn import datasets\n",
    "\n",
    "\n",
    "from mpl_toolkits.mplot3d import Axes3D\n",
    "from sklearn.preprocessing import StandardScaler\n",
    "import matplotlib.pyplot as plt # plotting\n",
    "import numpy as np # linear algebra\n",
    "import os # accessing directory structure\n",
    "import pandas as pd # data processing, CSV file I/O (e.g. pd.read_csv)"
   ]
  },
  {
   "cell_type": "code",
   "execution_count": 44,
   "metadata": {},
   "outputs": [
    {
     "ename": "SyntaxError",
     "evalue": "invalid syntax (<ipython-input-44-75485a9b8d4d>, line 2)",
     "output_type": "error",
     "traceback": [
      "\u001b[1;36m  File \u001b[1;32m\"<ipython-input-44-75485a9b8d4d>\"\u001b[1;36m, line \u001b[1;32m2\u001b[0m\n\u001b[1;33m    carLive = pd.read_csv('live1.csv'),\u001b[0m\n\u001b[1;37m            ^\u001b[0m\n\u001b[1;31mSyntaxError\u001b[0m\u001b[1;31m:\u001b[0m invalid syntax\n"
     ]
    }
   ],
   "source": [
    "carLive = pd.read_csv('live1.csv')\n",
    "carIdle = pd.read_csv('idle1.csv')\n",
    "carLong = pd.read_csv('long1.csv')\n",
    "carDrive = pd.read_csv('drive1.csv')\n",
    "carUfpe = pd.read_csv('ufpe1.csv')\n",
    "\n",
    "cars = {\n",
    "    carLive,\n",
    "    carIdle,\n",
    "    carLong,\n",
    "    carDrive,\n",
    "    carUfpe\n",
    "}"
   ]
  },
  {
   "cell_type": "code",
   "execution_count": 10,
   "metadata": {},
   "outputs": [
    {
     "ename": "AttributeError",
     "evalue": "'str' object has no attribute 'drop'",
     "output_type": "error",
     "traceback": [
      "\u001b[1;31m---------------------------------------------------------------------------\u001b[0m",
      "\u001b[1;31mAttributeError\u001b[0m                            Traceback (most recent call last)",
      "\u001b[1;32m<ipython-input-10-6366fae91bc7>\u001b[0m in \u001b[0;36m<module>\u001b[1;34m\u001b[0m\n\u001b[0;32m      1\u001b[0m \u001b[1;32mfor\u001b[0m \u001b[0mcar\u001b[0m \u001b[1;32min\u001b[0m \u001b[0mcars\u001b[0m\u001b[1;33m:\u001b[0m\u001b[1;33m\u001b[0m\u001b[1;33m\u001b[0m\u001b[0m\n\u001b[1;32m----> 2\u001b[1;33m     x = car.drop(columns = ['ENGINE_RUN_TINE ()',                     \n\u001b[0m\u001b[0;32m      3\u001b[0m     \u001b[1;34m'ENGINE_RPM ()'\u001b[0m\u001b[1;33m,\u001b[0m\u001b[1;33m\u001b[0m\u001b[1;33m\u001b[0m\u001b[0m\n\u001b[0;32m      4\u001b[0m     \u001b[1;34m'ENGINE_LOAD ()'\u001b[0m\u001b[1;33m,\u001b[0m\u001b[1;33m\u001b[0m\u001b[1;33m\u001b[0m\u001b[0m\n\u001b[0;32m      5\u001b[0m     \u001b[1;34m'COOLANT_TEMPERATURE ()'\u001b[0m\u001b[1;33m,\u001b[0m\u001b[1;33m\u001b[0m\u001b[1;33m\u001b[0m\u001b[0m\n",
      "\u001b[1;31mAttributeError\u001b[0m: 'str' object has no attribute 'drop'"
     ]
    }
   ],
   "source": [
    "for car in cars:\n",
    "    x = car.drop(columns = ['ENGINE_RUN_TINE ()',                     \n",
    "    'ENGINE_RPM ()',                            \n",
    "    'ENGINE_LOAD ()',                           \n",
    "    'COOLANT_TEMPERATURE ()',                   \n",
    "    'LONG_TERM_FUEL_TRIM_BANK_1 ()',            \n",
    "    'INTAKE_MANIFOLD_PRESSURE ()',              \n",
    "    'COMMANDED_THROTTLE_ACTUATOR ()',           \n",
    "    'FUEL_AIR_COMMANDED_EQUIV_RATIO ()',        \n",
    "    'RELATIVE_THROTTLE_POSITION ()',            \n",
    "    'INTAKE_AIR_TEMP ()',                       \n",
    "    'TIMING_ADVANCE ()',                       \n",
    "    'CATALYST_TEMPERATURE_BANK1_SENSOR1 ()',    \n",
    "    'CATALYST_TEMPERATURE_BANK1_SENSOR2 ()',    \n",
    "    'CONTROL_MODULE_VOLTAGE ()',                \n",
    "    'COMMANDED_EVAPORATIVE_PURGE ()',           \n",
    "    'TIME_RUN_WITH_MIL_ON ()',                  \n",
    "    'TIME_SINCE_TROUBLE_CODES_CLEARED ()',      \n",
    "    'DISTANCE_TRAVELED_WITH_MIL_ON ()',         \n",
    "    'WARM_UPS_SINCE_CODES_CLEARED ()',\n",
    "    'FUEL_TANK ()'                        ])\n",
    "\n",
    "    y = car['FUEL_TANK ()']\n",
    "    y=y.astype('float')    "
   ]
  },
  {
   "cell_type": "code",
   "execution_count": null,
   "metadata": {},
   "outputs": [],
   "source": [
    "fig, ax = plt.subplots()\n",
    "ax.plot(x, y, 'bo', label='Dados')"
   ]
  }
 ],
 "metadata": {
  "kernelspec": {
   "display_name": "Python 3",
   "language": "python",
   "name": "python3"
  },
  "language_info": {
   "codemirror_mode": {
    "name": "ipython",
    "version": 3
   },
   "file_extension": ".py",
   "mimetype": "text/x-python",
   "name": "python",
   "nbconvert_exporter": "python",
   "pygments_lexer": "ipython3",
   "version": "3.8.3"
  }
 },
 "nbformat": 4,
 "nbformat_minor": 4
}
